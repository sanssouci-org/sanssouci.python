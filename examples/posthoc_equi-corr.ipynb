{
 "cells": [
  {
   "cell_type": "markdown",
   "metadata": {},
   "source": [
    "# Test sanssouci on synthetic data\n",
    "\n",
    "In this introductory notebook, we test the *sanssouci* module on synthetic data. \n"
   ]
  },
  {
   "cell_type": "code",
   "execution_count": 1,
   "metadata": {},
   "outputs": [],
   "source": [
    "import numpy as np\n",
    "import matplotlib.pyplot as plt\n",
    "\n",
    "sanssouci_dir='../'\n",
    "import sys\n",
    "sys.path.append(sanssouci_dir)\n",
    "import sanssouci as sa\n",
    "\n",
    "import random\n"
   ]
  },
  {
   "cell_type": "markdown",
   "metadata": {},
   "source": [
    "## 1. Generate phantom data\n",
    "\n",
    "We observe $n=n_0 + n_1$ independent $p$-dimensional vectors $X^{(j)} \\sim \\mathcal{N}(\\mu^{(0)},\\Sigma)$ for $1\\leq j \\leq n_0$, and  $X^{(j)} \\sim \\mathcal{N}(\\mu^{(1)},\\Sigma)$ for $1\\leq j \\leq n_1$. Our goal is to test for each feature $i = 1 \\dots p$ the null hypothesis: $\\mathcal{H}_{0,i}: \\theta^{(0)}_i=\\theta^{(1)}_i$. \n",
    "\n",
    "We denote by $p_0$ the number of true null hypotheses (that is, the number of noise features) and by $\\pi_0 = p_0/p$ the fraction of true nulls (that is, the proportion of noise in the data). \n",
    "\n",
    "We assume that:\n",
    "\n",
    "- $\\Sigma = \\rho + (1-\\rho) I_p$, meaning that the correlation between any two variables is $\\rho$; the case $\\rho=0$ corresponds to independent tests. \n",
    "\n",
    "- for $i = 1, \\cdots, p_0$, $\\mu^{(0)} = \\mu^{(1)} = 0$\n",
    "- for $i = p_0+1, \\cdots, p$, $\\mu^{(0)} = 0$ and $\\mu^{(1)} = s$, where $s$ controls the signal to noise ratio of the problem.\n",
    "\n",
    "For each feature, the null hypothesis: $\\mathcal{H}_{0,i}: \\theta^{(0)}_i=\\theta^{(1)}_i$ is tested by a two-sample Welch test. \n",
    "\n",
    "The simulation parameters are set as follows."
   ]
  },
  {
   "cell_type": "code",
   "execution_count": 2,
   "metadata": {},
   "outputs": [],
   "source": [
    "random.seed(a=2021)\n",
    "\n",
    "p = 50000         # number of features     (eg : number of voxels in an image)\n",
    "n = 80            # number of observations  (eg : number of images)\n",
    "pi0 = 0.99        # proportion of noise (true null hypotheses)\n",
    "p0 = int(np.round(pi0*p)) # number of true null hypotheses (non active voxels)\n",
    "rho = 0.3         # equi-correlation\n",
    "s = 1             # signal to noise ratio\n",
    "\n",
    "# generate noise\n",
    "Z=np.random.randn(n,p)\n",
    "w=np.random.randn(n)\n",
    "W=Z.copy()\n",
    "for i in range(p):\n",
    "  W[:,i]=w[:]\n",
    "Y=np.sqrt(1-rho)*Z + np.sqrt(rho)*W\n",
    "\n",
    "# add signal (for false null hypotheses)\n",
    "categ=np.random.binomial(1, 0.5, size=n) # two balanced categories\n",
    "X = Y.copy()\n",
    "w1=np.where(categ==1)\n",
    "X[w1, (p0+1):p] = Y[w1, (p0+1):p] + s\n"
   ]
  },
  {
   "cell_type": "markdown",
   "metadata": {},
   "source": [
    "We perform Welch $t$-tests on each feature to assess whether the mean values are significantly different between the two groups of observations. The histogram of the $p=50000$ p-values is shown below."
   ]
  },
  {
   "cell_type": "code",
   "execution_count": 3,
   "metadata": {
    "scrolled": true
   },
   "outputs": [
    {
     "data": {
      "image/png": "[encoded data removed]",
      "text/plain": [
       "<Figure size 432x288 with 2 Axes>"
      ]
     },
     "metadata": {
      "needs_background": "light"
     },
     "output_type": "display_data"
    }
   ],
   "source": [
    "# calculate and display the p-values\n",
    "rwt=sa.row_welch_tests(X, categ)\n",
    "pval = rwt['p_value']\n",
    "\n",
    "plt.subplot(2, 2, 1)\n",
    "plt.hist(pval, 100)  #100 bins are used for the histogram\n",
    "plt.title('histogram of p-values')\n",
    "\n",
    "s_pval = np.sort(pval)\n",
    "plt.subplot(2, 2, 2)\n",
    "plt.plot(s_pval[:1000], '.')\n",
    "plt.title('Smallest 1000 p-values')\n",
    "\n",
    "plt.show()\n"
   ]
  },
  {
   "cell_type": "markdown",
   "metadata": {},
   "source": [
    "In order to define which features are \"significantly\" associated, we need to take into account the fact that a large number of tests are performed in parallel. This calls for the use of multiple testing corrections. \n"
   ]
  },
  {
   "cell_type": "markdown",
   "metadata": {},
   "source": [
    "\n",
    "## 2. Classical multiple testing: FDR control\n",
    "\n",
    "A standard way to account for the fact that we are performing many tests simultaneously is to control the False Discovery Rate (FDR). The FDR of a subset of features is the expected proportion of false positives in this set. This is classically done using the Benjamini-Hochberg (1995) procedure.\n",
    "\n",
    "The Benjamini-Hochberg (BH) procedure at level $\\alpha$ rejects the smallest $I$ $p$-values, where $I$ is the largest crossing point between the sorted $p$-values and the line passing by $(0,0)$ and $(p, \\alpha)$:"
   ]
  },
  {
   "cell_type": "code",
   "execution_count": 10,
   "metadata": {
    "scrolled": true
   },
   "outputs": [
    {
     "name": "stdout",
     "output_type": "stream",
     "text": [
      "p_i: 0.0006383953945765519\n",
      "i: 327\n"
     ]
    },
    {
     "data": {
      "image/png": "[encoded data removed]",
      "text/plain": [
       "<Figure size 432x288 with 1 Axes>"
      ]
     },
     "metadata": {
      "needs_background": "light"
     },
     "output_type": "display_data"
    }
   ],
   "source": [
    "# adapted from https://matthew-brett.github.io/teaching/fdr.html\n",
    "alpha = 0.1\n",
    "s_pval = np.sort(pval)\n",
    "i = np.arange(1, p+1) # the 1-based i index of the p values, as in p(i)\n",
    "\n",
    "plt.plot(i[:1000], s_pval[:1000], '.')\n",
    "plt.plot(i[:1000], alpha * i[:1000] / p, 'r')\n",
    "plt.title(\"BH procedure\")\n",
    "\n",
    "below = s_pval < (alpha * i / p)   # True where p(i)<qi/N\n",
    "I = np.max(np.where(below)[0]) + 1 # Max Python array index where p(i)<qi/N\n",
    "print('p_i:', s_pval[I-1])\n",
    "print('i:', I) # Python indices 0-based, we want 1-based\n"
   ]
  },
  {
   "cell_type": "markdown",
   "metadata": {},
   "source": [
    "Here, the BH procedure ensures that the FDR, that is, the expected proportion of false positives (FDP) among the 427 selected variables is less than 0.1. "
   ]
  },
  {
   "cell_type": "markdown",
   "metadata": {},
   "source": [
    "### Intrinsic limitations of FDR control\n",
    "\n",
    "As noted by Goeman and Solari (2011), an important limitation to the above approach is that FDR controlling procedures output a single set of \"significant features\", whereas users are typically interested in other subsets of features. \n",
    "\n",
    "Another caveat is that FDR control (which is by definition a control in expectation), may not be interpretable in the situation where the underlying FDP is highly variable. Unfortunately, this situation is common in high-dimensional data sets with non independent features, in particular in genomics and neuroimaging.\n",
    "\n",
    "Because we are working with simuated data, we can actually calculate the true False Discovery Proportion (FDP) as done in the next cell. However, this could not be done when analyzing actual data."
   ]
  },
  {
   "cell_type": "code",
   "execution_count": 12,
   "metadata": {},
   "outputs": [
    {
     "name": "stdout",
     "output_type": "stream",
     "text": [
      "FP: 10\n",
      "FDP: 0.03058103975535168\n"
     ]
    }
   ],
   "source": [
    "i0 = np.arange(1, p0+1)\n",
    "below0 = pval[:p0] < (alpha * (I-1) / p)\n",
    "FP = np.sum(below0)\n",
    "print('FP:', FP)\n",
    "\n",
    "FDP = FP/I\n",
    "print('FDP:', FDP)"
   ]
  },
  {
   "cell_type": "markdown",
   "metadata": {},
   "source": [
    "## 3. Post hoc inference\n",
    "\n",
    "In order to bypass these limitations, post hoc inference makes it possible to *build confidence statements on the number of true/false positives within any set $S$ of selected variables*: $S$ may be selected after seing the data (e.g., $S$ may be the set of rejections by the BH procedure), and multiple choices of $S$ are allowed. Post hoc inference has been popularized by Goeman and Solari (2011) and its application to neuroimaging data is illustrated in Rosenblatt *et al*, 2018.  This approach is implemented in the R package 'ARI', which relies on the R package 'cherry'.\n",
    "\n",
    "Below, we use an equivalent formulation of the bound of Goeman and Solari (2011) implemented in the python package 'sansSouci.python'. \n",
    "\n",
    "### Upper bound on $p_0$\n",
    "\n",
    "We obtain an upper bound on $p_0$, the number of true null hypotheses, by taking $S=$ all $p$ hypotheses. With probability $1-\\alpha = 0.9$ the number of true null hypotheses is less than this bound:"
   ]
  },
  {
   "cell_type": "code",
   "execution_count": 13,
   "metadata": {},
   "outputs": [
    {
     "name": "stdout",
     "output_type": "stream",
     "text": [
      "\n",
      "bound: 49862.0\n",
      "\n",
      "Number of true null hypotheses: 49500\n"
     ]
    }
   ],
   "source": [
    "alpha = 0.1\n",
    "thr=sa.t_linear(alpha, np.arange(1,p+1), p)\n",
    "\n",
    "bound = sa.max_fp(pval, thr)\n",
    "print(\"\\nbound:\",bound)\n",
    "print('\\nNumber of true null hypotheses:', p0)"
   ]
  },
  {
   "cell_type": "markdown",
   "metadata": {},
   "source": [
    "### Number of false positives by BH\n",
    "\n",
    "Post hoc inference allows the user to select any subset of features $S$ of interest. In particular, we can chose $S$ as the set of features selected by the BH procedure."
   ]
  },
  {
   "cell_type": "code",
   "execution_count": 14,
   "metadata": {},
   "outputs": [
    {
     "name": "stdout",
     "output_type": "stream",
     "text": [
      "\n",
      "bound: 189.0\n",
      "\n",
      "Number of false positives: 10\n"
     ]
    }
   ],
   "source": [
    "bound = sa.max_fp(s_pval[np.where(below)], thr)\n",
    "print(\"\\nGS2011 post hoc bound:\", bound)\n",
    "print('\\nTrue number of false positives:', FP)"
   ]
  },
  {
   "cell_type": "markdown",
   "metadata": {},
   "source": [
    "In this particular example, the bound is substantially larger than the true number of false positives, meaning that the GS2011 bound is conservative.\n",
    "\n",
    "### Confidence curves for the FDP\n",
    "\n",
    "Confidence curves for the False Discovery Proportion are another typical output of post hoc inference. These curves display post hoc bounds as a function of the number of most significant features retained. The user may choose how many features to retain based on the value of the bound. "
   ]
  },
  {
   "cell_type": "code",
   "execution_count": 15,
   "metadata": {},
   "outputs": [
    {
     "data": {
      "image/png": "[encoded data removed]",
      "text/plain": [
       "<Figure size 432x288 with 1 Axes>"
      ]
     },
     "metadata": {
      "needs_background": "light"
     },
     "output_type": "display_data"
    },
    {
     "data": {
      "image/png": "[encoded data removed]",
      "text/plain": [
       "<Figure size 432x288 with 1 Axes>"
      ]
     },
     "metadata": {
      "needs_background": "light"
     },
     "output_type": "display_data"
    }
   ],
   "source": [
    "maxFP = sa.curve_max_fp(s_pval, thr)\n",
    "maxFDP = maxFP/i\n",
    "minTP = i - maxFP\n",
    "\n",
    "plt.plot(maxFDP[:1000], )\n",
    "plt.title(\"Upper confidence bound on the FDP among smallest k p-values\")\n",
    "plt.xlabel(\"k\")\n",
    "plt.show()\n",
    "\n",
    "plt.plot(minTP[:1000], )\n",
    "plt.title(\"Lower confidence bound on the TP among smallest k p-values\")\n",
    "plt.xlabel(\"k\")\n",
    "plt.show()"
   ]
  },
  {
   "cell_type": "markdown",
   "metadata": {},
   "source": [
    "## 4. Improved post hoc inference by adaptation to the dependence\n",
    "\n",
    "As discussed in Blanchard, Neuvial, and Roquain (2020), the above-described bound is known to be valid only under certain positive dependence assumptions (PRDS) on the joint $p$-value distribution. Although the PRDS assumption is widely accepted for fMRI studies (see Genovese, Lazar, and Nichols (2002), Nichols and Hayasaka (2003)), we argue (and demonstrate below) that this assumption yields overly conservative post hoc bounds. Indeed, the Simes bound is by construction not adaptive to the specific type of dependence at hand for a particular data set.\n",
    "\n",
    "To bypass these limitations, Blanchard, Neuvial, and Roquain (2020) have proposed a randomization-based procedure known as $\\lambda$-calibration, which yields tighter bounds that are adapted to the dependency observed in the data set at hand. We note that a related approach has been proposed by Hemerik, Solari, and Goeman (2019), and Andreella *et al* (2020) (https://arxiv.org/abs/2012.00368).  In the case of two-sample tests, this calibration can be achieved by permutation of class labels, which is available in the sansSouci.python package:"
   ]
  },
  {
   "cell_type": "code",
   "execution_count": 17,
   "metadata": {},
   "outputs": [
    {
     "name": "stdout",
     "output_type": "stream",
     "text": [
      "\n",
      "alpha: 0.1\n",
      "\n",
      "lambda: 0.26\n"
     ]
    }
   ],
   "source": [
    "B = 1000\n",
    "pval0 = sa.get_perm_p(X, categ, B=B , row_test_fun=sa.row_welch_tests)\n",
    "piv_stat = sa.get_pivotal_stats(pval0, K=p)\n",
    "lam = np.quantile(piv_stat, alpha)\n",
    "\n",
    "print('\\nalpha:', alpha)\n",
    "print('\\nlambda:', np.round(lam, 2))"
   ]
  },
  {
   "cell_type": "markdown",
   "metadata": {},
   "source": [
    "Here we obtain $\\lambda > \\alpha$. This practically means that in order to obtain post hoc statements at confidence level $1-\\alpha$, the user can use the GS2011 bound at level $\\lambda$. As  $\\lambda > \\alpha$, this means that the new proposed bound will tighter (ie, less conservative) than the original GS2011 bound. The gap between $\\lambda$ and $\\alpha$ can be interpreted as the power gain obtained by $\\lambda$-calibration, which is illustrated below."
   ]
  },
  {
   "cell_type": "markdown",
   "metadata": {},
   "source": [
    "### Upper bound on 𝑝0, the number of true null hypotheses\n",
    "\n",
    "We obtain an upper bound on $p_0$, the number of true null hypotheses, by taking $S=$ all $p$ hypotheses. With probability $1-\\alpha = 0.9$ the number of true null hypotheses should be less than this bound:"
   ]
  },
  {
   "cell_type": "code",
   "execution_count": 18,
   "metadata": {
    "scrolled": true
   },
   "outputs": [
    {
     "name": "stdout",
     "output_type": "stream",
     "text": [
      "\n",
      "bound: 49783.0\n",
      "\n",
      "Number of true null hypotheses: 49500\n"
     ]
    }
   ],
   "source": [
    "thr_cal=sa.t_linear(lam, np.arange(1,p+1), p)\n",
    "\n",
    "bound = sa.max_fp(pval, thr_cal)\n",
    "print(\"\\nbound:\",bound)\n",
    "print('\\nNumber of true null hypotheses:', p0)"
   ]
  },
  {
   "cell_type": "markdown",
   "metadata": {},
   "source": [
    "As expected, the bound is still valid, and tighter than before.\n",
    "\n",
    "### Number of false positives by BH\n",
    "\n",
    "We now calculate an upper bound on the number of false positives among the hypotheses rejected by the BH procedure."
   ]
  },
  {
   "cell_type": "code",
   "execution_count": 19,
   "metadata": {
    "scrolled": true
   },
   "outputs": [
    {
     "name": "stdout",
     "output_type": "stream",
     "text": [
      "\n",
      "GS2011 post hoc bound: 189.0\n",
      "\n",
      "BNR2020 post hoc bound: 110.0\n",
      "\n",
      "True number of false positives: 10\n",
      "\n",
      "bound: 189.0\n",
      "\n",
      "Number of false positives: 10\n"
     ]
    }
   ],
   "source": [
    "bound = sa.max_fp(s_pval[np.where(below)], thr)\n",
    "bound_cal = sa.max_fp(s_pval[np.where(below)], thr_cal)\n",
    "print(\"\\nGS2011 post hoc bound:\", bound)\n",
    "print(\"\\nBNR2020 post hoc bound:\", bound_cal)\n",
    "print('\\nTrue number of false positives:', FP)\n"
   ]
  },
  {
   "cell_type": "markdown",
   "metadata": {},
   "source": [
    "Again, the BNR2020 bound is still valid, and tighter than the GS2011 bound.\n",
    "\n",
    "### Confidence envelopes for the FDP\n",
    "\n"
   ]
  },
  {
   "cell_type": "code",
   "execution_count": 20,
   "metadata": {},
   "outputs": [
    {
     "data": {
      "image/png": "[encoded data removed]",
      "text/plain": [
       "<Figure size 432x288 with 1 Axes>"
      ]
     },
     "metadata": {
      "needs_background": "light"
     },
     "output_type": "display_data"
    }
   ],
   "source": [
    "maxFP_cal = sa.curve_max_fp(s_pval, thr_cal)\n",
    "maxFDP_cal = maxFP_cal/i\n",
    "\n",
    "plt.plot(maxFDP_cal[:1000], '-r', label = 'Simes')\n",
    "plt.plot(maxFDP[:1000], '-', label = 'Simes + lambda-calibration')\n",
    "plt.title('Upper confidence bound on the FDP among smallest k p-values')\n",
    "plt.xlabel('k')\n",
    "plt.show()"
   ]
  },
  {
   "cell_type": "markdown",
   "metadata": {},
   "source": [
    "The upper bound obtained by $\\lambda$-calibration (in red) is uniformly tighter than the original \"parametric\" one."
   ]
  },
  {
   "cell_type": "markdown",
   "metadata": {},
   "source": [
    "## References\n",
    "\n",
    "\n",
    "Blanchard, Gilles, Pierre Neuvial, and Etienne Roquain. 2020. “Post Hoc Confidence Bounds on False Positives Using Reference Families.” Annals of Statistics 48 (3): 1281–1303. https://projecteuclid.org/euclid.aos/1594972818.\n",
    "\n",
    "Goeman, Jelle J, and Aldo Solari. 2011. “Multiple Testing for Exploratory Research.” Statistical Science 26 (4): 584–97.\n",
    "\n",
    "Hemerik, Jesse, Aldo Solari, and Jelle J Goeman. 2019. “Permutation-Based Simultaneous Confidence Bounds for the False Discovery Proportion.” Biometrika 106 (3): 635–49.\n"
   ]
  }
 ],
 "metadata": {
  "kernelspec": {
   "display_name": "Python 3.9.12 ('base')",
   "language": "python",
   "name": "python3"
  },
  "language_info": {
   "codemirror_mode": {
    "name": "ipython",
    "version": 3
   },
   "file_extension": ".py",
   "mimetype": "text/x-python",
   "name": "python",
   "nbconvert_exporter": "python",
   "pygments_lexer": "ipython3",
   "version": "3.9.12"
  },
  "vscode": {
   "interpreter": {
    "hash": "b6fe16d9fd1c23bd69ec341d9fdaec3c46af2506ddf53400303be8b0159d1c9c"
   }
  }
 },
 "nbformat": 4,
 "nbformat_minor": 4
}
